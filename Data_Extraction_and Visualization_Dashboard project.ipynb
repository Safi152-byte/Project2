{
 "cells": [
  {
   "cell_type": "markdown",
   "id": "1f86d952-8560-4636-99b8-c155e71b8fbd",
   "metadata": {},
   "source": [
    "Data Extraction and Visualization Dashboard project"
   ]
  },
  {
   "cell_type": "code",
   "execution_count": null,
   "id": "ea977efd-2e18-4545-b772-c14c1fd2b378",
   "metadata": {},
   "outputs": [],
   "source": [
    "import yfinance as yf\n",
    "\n",
    "# Extract Tesla stock data\n",
    "tesla_data = yf.download(\"TSLA\", start=\"2020-01-01\", end=\"2023-01-01\")\n",
    "\n",
    "# Reset the index\n",
    "tesla_data.reset_index(inplace=True)\n",
    "\n",
    "# Display the first five rows\n",
    "tesla_data.head()\n"
   ]
  },
  {
   "cell_type": "code",
   "execution_count": null,
   "id": "cf3efe65-ebf8-48a5-b072-09fc61139eff",
   "metadata": {},
   "outputs": [],
   "source": [
    "import requests\n",
    "from bs4 import BeautifulSoup\n",
    "import pandas as pd\n",
    "\n",
    "# URL containing Tesla revenue data\n",
    "url = \"https://www.macrotrends.net/stocks/charts/TSLA/tesla/revenue\"\n",
    "\n",
    "# Request and parse the webpage\n",
    "html_data = requests.get(url).text\n",
    "soup = BeautifulSoup(html_data, \"html.parser\")\n",
    "\n",
    "# Extract table containing revenue data\n",
    "tables = soup.find_all(\"table\")\n",
    "for table in tables:\n",
    "    if \"Tesla Quarterly Revenue\" in str(table):\n",
    "        tesla_revenue_table = table\n",
    "        break\n",
    "\n",
    "# Extract table rows\n",
    "rows = tesla_revenue_table.find_all(\"tr\")\n",
    "\n",
    "# Create a list for storing data\n",
    "data = []\n",
    "for row in rows[1\n"
   ]
  },
  {
   "cell_type": "code",
   "execution_count": null,
   "id": "28a8e3e3-72ee-458b-8531-834a474104b9",
   "metadata": {},
   "outputs": [],
   "source": [
    "\n",
    "\n",
    "# Download GameStop (GME) stock data\n",
    "gme_data = yf.download(\"GME\", period=\"5y\")\n",
    "\n",
    "# Reset the index\n",
    "gme_data.reset_index(inplace=True)\n",
    "\n",
    "# Display the first five rows\n",
    "gme_data.head()\n"
   ]
  },
  {
   "cell_type": "code",
   "execution_count": null,
   "id": "8a52ca90-6828-461e-9def-67ff7bc2b534",
   "metadata": {},
   "outputs": [],
   "source": [
    "\n",
    "# Define the URL for GameStop's revenue data (example URL, update as needed)\n",
    "url = \"https://www.macrotrends.net/stocks/charts/GME/gamestop/revenue\"\n",
    "\n",
    "# Send a request and parse the webpage\n",
    "response = requests.get(url)\n",
    "soup = BeautifulSoup(response.text, \"html.parser\")\n",
    "\n",
    "# Extract the table containing revenue data\n",
    "tables = soup.find_all(\"table\")\n",
    "for table in tables:\n",
    "    if \"Revenue\" in str(table):  # Identify the correct table\n",
    "        revenue_table = table\n",
    "        break\n",
    "\n",
    "# Convert table data into a dataframe\n",
    "rows = revenue_table.find_all(\"tr\")\n",
    "data = []\n",
    "for row in rows[1:]:  # Skip header row\n",
    "    cols = row.find_all(\"td\")\n",
    "    if len(cols) > 1:\n",
    "        data.append([col.text.strip() for col in cols])\n",
    "\n",
    "# Create DataFrame\n",
    "gme_revenue = pd.DataFrame(data, columns=[\"Date\", \"Revenue\"])\n",
    "\n",
    "# Display the last five rows\n",
    "gme_revenue.tail()\n"
   ]
  },
  {
   "cell_type": "code",
   "execution_count": null,
   "id": "af3df437-7dd1-4624-9f35-c90b6baa5526",
   "metadata": {},
   "outputs": [],
   "source": [
    "import matplotlib.pyplot as plt\n",
    "\n",
    "# Function to plot stock data\n",
    "def make_graph(data, title):\n",
    "    plt.figure(figsize=(10, 5))\n",
    "    plt.plot(data[\"Date\"], data[\"Close\"], label=\"Close Price\", color=\"blue\")\n",
    "    plt.xlabel(\"Date\")\n",
    "    plt.ylabel(\"Stock Price (USD)\")\n",
    "    plt.title(title)\n",
    "    plt.legend()\n",
    "    plt.xticks(rotation=45)\n",
    "    plt.show()\n",
    "\n",
    "# Plot Tesla stock data\n",
    "make_graph(tesla_data, \"Tesla Stock Price Trend\")\n"
   ]
  },
  {
   "cell_type": "code",
   "execution_count": null,
   "id": "b143ca61-c9fc-4dc9-b664-fc123ebd6649",
   "metadata": {},
   "outputs": [],
   "source": [
    "# Plot GameStop stock data\n",
    "make_graph(gme_data, \"GameStop Stock Price Trend\")\n"
   ]
  }
 ],
 "metadata": {
  "kernelspec": {
   "display_name": "Python 3 (ipykernel)",
   "language": "python",
   "name": "python3"
  },
  "language_info": {
   "codemirror_mode": {
    "name": "ipython",
    "version": 3
   },
   "file_extension": ".py",
   "mimetype": "text/x-python",
   "name": "python",
   "nbconvert_exporter": "python",
   "pygments_lexer": "ipython3",
   "version": "3.11.7"
  }
 },
 "nbformat": 4,
 "nbformat_minor": 5
}
